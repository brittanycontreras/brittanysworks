{
 "cells": [
  {
   "cell_type": "code",
   "execution_count": 1,
   "id": "4d06fae8-76b3-401a-a19d-826318fc04c5",
   "metadata": {},
   "outputs": [
    {
     "name": "stdout",
     "output_type": "stream",
     "text": [
      "Values displayed by 'Random Policy': [-0.19907232 -0.19907232 -0.19907232 -0.19907232 -0.19907232 -0.19907232]\n",
      "Values dispayed by 'Optimal Policy': [-0.02  -0.038 -0.038 -0.02  -0.038  0.   ]\n"
     ]
    }
   ],
   "source": [
    "import numpy as np\n",
    "\n",
    "moves = np.array(range(1, 7))\n",
    "actions = ['N', 'E', 'S', 'W']\n",
    "discount = 0.9\n",
    "reward = -0.02\n",
    "V = np.zeros(len(moves))\n",
    "\n",
    "Policy_rand = {\n",
    "    1: {'N': 1, 'E': 0, 'S': 5, 'W': 1},\n",
    "    2: {'N': 1, 'E': 3, 'S': 2, 'W': 2},\n",
    "    3: {'N': 2, 'E': 4, 'S': 3, 'W': 3},\n",
    "    4: {'N': 3, 'E': 4, 'S': 6, 'W': 4},\n",
    "    5: {'N': 1, 'E': 5, 'S': 5, 'W': 5},\n",
    "    6: {'N': 4, 'E': 6, 'S': 6, 'W': 6}\n",
    "}\n",
    "def new_policy(move):\n",
    "    tra = Policy_rand[move]\n",
    "    move_values = [V[tra[act] - 1] for act in actions if tra[act] != move]\n",
    "    return reward + discount * np.mean(move_values)\n",
    "    \n",
    "def new_optimal(move):\n",
    "    if move == 6:\n",
    "        return 0 \n",
    "    tra = Policy_rand[move]\n",
    "    if 6 in tra.values():\n",
    "        return reward + discount * V[5]\n",
    "    else:\n",
    "        return reward + discount * max([V[tra[act] - 1] for act in actions if tra[act] != move])\n",
    "\n",
    "for _ in range(1000):\n",
    "    V_new = np.array([new_policy(s) for s in moves])\n",
    "    if np.max(np.abs(V - V_new)) < 1e-4:\n",
    "        break\n",
    "    V = V_new\n",
    "\n",
    "print(\"Values displayed by 'Random Policy':\", V)\n",
    "\n",
    "V = np.zeros(len(moves))\n",
    "\n",
    "for _ in range(1000):\n",
    "    V_new = np.array([new_optimal(s) for s in moves])\n",
    "    if np.max(np.abs(V - V_new)) < 1e-4:\n",
    "        break\n",
    "    V = V_new\n",
    "\n",
    "print(\"Values dispayed by 'Optimal Policy':\", V)"
   ]
  },
  {
   "cell_type": "code",
   "execution_count": 2,
   "id": "49eb048a-fb37-4820-b1fc-6a7c8bb6a290",
   "metadata": {},
   "outputs": [
    {
     "name": "stdout",
     "output_type": "stream",
     "text": [
      "Final moves under 'Random Policy': [-0.11390656 -0.11390656 -0.11390656 -0.11390656 -0.11390656 -0.11390656]\n"
     ]
    }
   ],
   "source": [
    "import numpy as np\n",
    "\n",
    "moves = 6\n",
    "discount = 0.9\n",
    "reward = -0.02\n",
    "V = np.zeros(moves)\n",
    "iter = 100\n",
    "\n",
    "Policy_rand = np.array([\n",
    "    [1/3, 1/3, 0, 0, 1/3, 0], \n",
    "    [1/2, 0, 1/2, 0, 0, 0],\n",
    "    [0, 1/2, 0, 1/2, 0, 0], \n",
    "    [0, 0, 1/3, 1/3, 0, 1/3], \n",
    "    [1/3, 0, 0, 0, 1/3, 1/3], \n",
    "    [0, 0, 0, 1, 0, 0]         \n",
    "])\n",
    "\n",
    "for _ in range(iter):\n",
    "    V_p = np.copy(V)\n",
    "    for s in range(moves):\n",
    "        V[s] = reward + discount * np.sum(Policy_rand[s] * V_p)\n",
    "    if np.max(np.abs(V - V_p)) < 0.01:\n",
    "        break\n",
    "\n",
    "print(\"Final moves under 'Random Policy':\", V)\n"
   ]
  },
  {
   "cell_type": "code",
   "execution_count": 3,
   "id": "ff0910be-ef70-489c-b1e0-054cc7ab635e",
   "metadata": {},
   "outputs": [
    {
     "name": "stdout",
     "output_type": "stream",
     "text": [
      "Random\n",
      "Final values under the Random policy: [-0.19907232 -0.19907232 -0.19907232 -0.19907232 -0.19907232 -0.19907232]\n",
      "Optimal\n",
      "Final values under the Optimal policy: [-0.19907232 -0.19907232 -0.19907232 -0.19907232 -0.19907232 -0.19907232]\n"
     ]
    }
   ],
   "source": [
    "import numpy as np\n",
    "\n",
    "moves = 6\n",
    "discount = 0.9\n",
    "rewards = -0.02\n",
    "V = np.zeros(moves)\n",
    "iter = 100\n",
    "\n",
    "Policy_rand = np.array([\n",
    "    [1/3, 1/3, 0, 0, 1/3, 0],\n",
    "    [1/2, 0, 1/2, 0, 0, 0], \n",
    "    [0, 1/2, 0, 1/2, 0, 0],\n",
    "    [0, 0, 1/2, 0, 0, 1/2],\n",
    "    [1/3, 0, 0, 0, 1/3, 1/3],\n",
    "    [0, 0, 0, 0, 0, 1]        \n",
    "])\n",
    "\n",
    "Policy_opt = np.array([\n",
    "    [0, 1, 0, 0, 0, 0],\n",
    "    [0, 0, 1, 0, 0, 0],\n",
    "    [0, 0, 0, 1, 0, 0], \n",
    "    [0, 0, 0, 0, 0, 1], \n",
    "    [0, 0, 0, 0, 0, 1],\n",
    "    [0, 0, 0, 0, 0, 1] \n",
    "])\n",
    "\n",
    "for policy_matrix, policy_name in [(Policy_rand, \"Random\"), (Policy_opt, \"Optimal\")]:\n",
    "    V = np.zeros(moves)\n",
    "    for _ in range(iter):\n",
    "        V_new = rewards + discount * np.dot(policy_matrix, V)\n",
    "        if np.max(np.abs(V - V_new)) < 0.0001:\n",
    "            print(f\"{policy_name}\")\n",
    "            break\n",
    "        V = V_new\n",
    "    print(f\"Final values under the {policy_name} policy:\", V)"
   ]
  },
  {
   "cell_type": "code",
   "execution_count": 4,
   "id": "f7bc60d7-16ec-4699-8b39-f3e9c8c82412",
   "metadata": {},
   "outputs": [],
   "source": [
    "# Question 1"
   ]
  },
  {
   "cell_type": "code",
   "execution_count": 5,
   "id": "7c281577-183c-4812-b80d-761ea978bc44",
   "metadata": {},
   "outputs": [
    {
     "name": "stdout",
     "output_type": "stream",
     "text": [
      "{V1: 0.492963376738754, V2: 0.798008175495717, V3: 0.454076149988424, V4: -0.738577190357942, V5: 0.398036886774541}\n"
     ]
    }
   ],
   "source": [
    "from sympy import symbols, Eq, solve\n",
    "V1, V2, V3, V4, V5 = symbols('V1 V2 V3 V4 V5')\n",
    "\n",
    "moves1 = Eq(V1, -0.02 + 0.9*(0.7*V2 + 0.1*V3 + 0.1*V4 + 0.1*V5))\n",
    "moves2 = Eq(V2, -0.02 + 0.9*(0.7 + 0.1*V1 + 0.2*V2))\n",
    "moves3 = Eq(V3, -0.02 + 0.9*(0.1*V1 + 0.2*V2 + 0.7*V3))\n",
    "moves4 = Eq(V4, -0.02 + 0.9*(0.1*V1 + 0.1*V4 + 0.1*V4 + 0.7*(-1)))\n",
    "moves5 = Eq(V5, -0.02 + 0.9*(0.7*V1 + 0.3*V5))\n",
    "\n",
    "answer = solve((moves1, moves2, moves3, moves4, moves5), (V1, V2, V3, V4, V5))\n",
    "print(answer)"
   ]
  },
  {
   "cell_type": "code",
   "execution_count": 6,
   "id": "a508ecb2-1eb5-4ce7-982d-90528cfc259a",
   "metadata": {},
   "outputs": [
    {
     "name": "stdout",
     "output_type": "stream",
     "text": [
      "{V1: 0.611091928198094, V2: 0.810973504314425, V3: 0.499983444883286, V4: 0.335351115566828, V5: 0.499983444883286}\n"
     ]
    }
   ],
   "source": [
    "from sympy import symbols, Eq, solve\n",
    "V1, V2, V3, V4, V5 = symbols('V1 V2 V3 V4 V5')\n",
    "\n",
    "moves1 = Eq(V1, -0.02 + 0.9*(0.7*V2 + 0.1*V5 + 0.1*V4 + 0.1*V3))\n",
    "moves2 = Eq(V2, -0.02 + 0.9*(0.7 + 0.2*V2 + 0.1*V1))\n",
    "moves3 = Eq(V3, -0.02 + 0.9*(0.7*V1 + 0.3*V3))\n",
    "moves4 = Eq(V4, -0.02 + 0.9*(0.7*V1 + 0.1*V4 + 0.1*V4 + 0.1*(-1)))\n",
    "moves5 = Eq(V5, -0.02 + 0.9*(0.7*V1 + 0.3*V5))\n",
    "\n",
    "answer = solve((moves1, moves2, moves3, moves4, moves5), (V1, V2, V3, V4, V5))\n",
    "print(answer)"
   ]
  },
  {
   "cell_type": "code",
   "execution_count": 7,
   "id": "ac71d846-8f1c-44d5-9544-888a940fa3a8",
   "metadata": {},
   "outputs": [],
   "source": [
    "# Question 2"
   ]
  },
  {
   "cell_type": "code",
   "execution_count": 2,
   "id": "bb05faf0-aae7-450b-ae2a-99fb807cb795",
   "metadata": {},
   "outputs": [
    {
     "name": "stdout",
     "output_type": "stream",
     "text": [
      "Values for Random Policy: [0.6110919281980935, 0.8109735043144248, 0.49998344488328617, 0.33535111556682784, 0.49998344488328617, 0.0]\n"
     ]
    }
   ],
   "source": [
    "def question_two(values, policy):\n",
    "    zero_values = [0.0] * len(values)\n",
    "    for i in range(len(values)):\n",
    "        if i == 0:\n",
    "            zero_values[i] = -0.02 + 0.9 * (\n",
    "                0.7 * values[1] + 0.1 * values[4] + 0.1 * values[3] + 0.1 * values[2]\n",
    "            )\n",
    "        elif i == 1:\n",
    "            zero_values[i] = -0.02 + 0.9 * (\n",
    "                0.7 + 0.2 * values[1] + 0.1 * values[0]\n",
    "            )\n",
    "        elif i == 2:\n",
    "            zero_values[i] = -0.02 + 0.9 * (\n",
    "                0.7 * values[0] + 0.3 * values[2]\n",
    "            )\n",
    "        elif i == 3:\n",
    "            zero_values[i] = -0.02 + 0.9 * (\n",
    "                0.7 * values[0] + 0.1 * values[3] + 0.1 * values[3] + 0.1 * (-1)\n",
    "            )\n",
    "        elif i == 4:\n",
    "            zero_values[i] = -0.02 + 0.9 * (\n",
    "                0.7 * values[0] + 0.3 * values[4]\n",
    "            )\n",
    "    return zero_values\n",
    "\n",
    "def main():\n",
    "    num_actions = 6\n",
    "    initial_values = [0.0] * num_actions\n",
    "    random_policy = [0.25, 0.55, 0.62, 0.12, 0.0]\n",
    "\n",
    "    iterations = 1000\n",
    "    for i in range(iterations):\n",
    "        initial_values = question_two(initial_values, random_policy)\n",
    "\n",
    "    print(\"Values for Random Policy:\", initial_values)\n",
    "\n",
    "if __name__ == \"__main__\":\n",
    "    main()"
   ]
  },
  {
   "cell_type": "code",
   "execution_count": 9,
   "id": "26c39fc1-6652-45c9-8e64-e5eac5c99d46",
   "metadata": {},
   "outputs": [],
   "source": [
    "# When it comes to the optimal policy, the value converges since the Bellman equation makes sure that every iteration improves in a sense by value due to optimal policy."
   ]
  },
  {
   "cell_type": "code",
   "execution_count": null,
   "id": "91eb360f-f139-4f83-97e8-e3ecd1ee784a",
   "metadata": {},
   "outputs": [],
   "source": [
    "# The random policy vs. the Optimal policy is presented in two values above, they show a direct correlation that while being conditoned you can ultimately they similar values for both policies."
   ]
  }
 ],
 "metadata": {
  "kernelspec": {
   "display_name": "Python 3 (ipykernel)",
   "language": "python",
   "name": "python3"
  },
  "language_info": {
   "codemirror_mode": {
    "name": "ipython",
    "version": 3
   },
   "file_extension": ".py",
   "mimetype": "text/x-python",
   "name": "python",
   "nbconvert_exporter": "python",
   "pygments_lexer": "ipython3",
   "version": "3.11.9"
  }
 },
 "nbformat": 4,
 "nbformat_minor": 5
}
